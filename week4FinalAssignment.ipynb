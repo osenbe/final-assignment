{
 "cells": [
  {
   "cell_type": "markdown",
   "id": "a2940195-9d27-4ae0-9692-ffdb63f2470c",
   "metadata": {
    "tags": []
   },
   "source": [
    "# My Jupyter Notebook on IBM Watson Studio"
   ]
  },
  {
   "cell_type": "markdown",
   "id": "fb2b32a5-01f0-4bec-88af-e5362597fa9a",
   "metadata": {},
   "source": [
    "**Alan Nishimura**\n",
    "<br>Data Scientist"
   ]
  },
  {
   "cell_type": "markdown",
   "id": "50b4b5c7-397e-491b-a1ca-82d2cba27208",
   "metadata": {},
   "source": [
    "_I am interested in data science because I am a builder and thus a problem solver.  \n",
    "Though I love to learn about a system using a first-principles approach, with the ability to collect and process a vast amount of data, I can learn about a system using a different approach. To get paid for tinkering with data is what I consider a dream come true._"
   ]
  },
  {
   "cell_type": "markdown",
   "id": "33bf2dcf-8ce7-4d24-af16-9ed8bdcb19c6",
   "metadata": {},
   "source": [
    "### The code uses the print() function to output the string,\"hello world\"."
   ]
  },
  {
   "cell_type": "code",
   "execution_count": 1,
   "id": "b76beef0-15d3-456c-ac0b-6e0b3e41aaf7",
   "metadata": {},
   "outputs": [
    {
     "name": "stdout",
     "output_type": "stream",
     "text": [
      "hello world\n"
     ]
    }
   ],
   "source": [
    "print(\"hello world\")"
   ]
  },
  {
   "cell_type": "markdown",
   "id": "72080375-1589-46e1-bbac-f574cbe145d7",
   "metadata": {},
   "source": [
    "\n",
    "\n",
    "This table is delineating the function provided by Python, the function's argument, the actual code, and finally the actual output.\n",
    "\n",
    "\n",
    "<table>\n",
    "  <tr>\n",
    "    <th>python function</th>\n",
    "    <th>function argument</th>\n",
    "      <th>actual code</th>\n",
    "    <th>actual output</th>\n",
    "  </tr>\n",
    "  <tr>\n",
    "    <td>print()</td>\n",
    "    <td>\"hello world\"</td>\n",
    "       <th><code> print(\"hello world\") </code></th>\n",
    "    <td>hello world</td>\n",
    "  </tr>\n",
    "</table>\n",
    "\n",
    "\n",
    "\n",
    "\n",
    "This is an example of a block quote in Jupyter notebook:\n",
    "\n",
    ">The message can be a string, or any other object, the object will be converted into a string before written to the screen. **W3 Schools**\n",
    "\n",
    "This is an example of a link:\n",
    "\n",
    "> [This is a link to w3 schools](https://www.w3schools.com/python/ref_func_print.asp)\n",
    "\n",
    "List of accomplishments in Cell 6:\n",
    "* created a table in html\n",
    "* created a block quote\n",
    "* created a link to the W3 Schools Website\n",
    "* created an unordered list\n",
    "\n",
    "\n"
   ]
  }
 ],
 "metadata": {
  "kernelspec": {
   "display_name": "Python 3 (ipykernel)",
   "language": "python",
   "name": "python3"
  },
  "language_info": {
   "codemirror_mode": {
    "name": "ipython",
    "version": 3
   },
   "file_extension": ".py",
   "mimetype": "text/x-python",
   "name": "python",
   "nbconvert_exporter": "python",
   "pygments_lexer": "ipython3",
   "version": "3.9.12"
  }
 },
 "nbformat": 4,
 "nbformat_minor": 5
}
